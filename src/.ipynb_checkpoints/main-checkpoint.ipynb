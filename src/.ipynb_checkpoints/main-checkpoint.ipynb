{
 "cells": [
  {
   "cell_type": "code",
   "execution_count": 1,
   "id": "d84a668f-e5dc-4583-948d-fc1ae6476719",
   "metadata": {},
   "outputs": [],
   "source": [
    "from stellar_populations.stellar_population import StellarPopulationModel\n",
    "\n",
    "# Create an instance of the model\n",
    "model = StellarPopulationModel()\n",
    "\n",
    "# Read configuration file\n",
    "model.read_config(\"config.ini\")\n",
    "# print(\"Parameters:\", model.parameters)\n",
    "\n",
    "model.initialize_ssp()\n",
    "\n",
    "# model.initialize_isochrones() \n",
    "\n",
    "# model.create_cmd_grid()\n",
    "# print(model.pts_df.columns)\n",
    "# print(model.pts_df)\n",
    "\n",
    "# model.populate_isochrones()\n",
    "#model.fit_cmd()"
   ]
  },
  {
   "cell_type": "code",
   "execution_count": null,
   "id": "1df16530-4aed-40c9-87ed-a379ae8099ae",
   "metadata": {},
   "outputs": [],
   "source": []
  }
 ],
 "metadata": {
  "kernelspec": {
   "display_name": "py39",
   "language": "python",
   "name": "py39"
  },
  "language_info": {
   "codemirror_mode": {
    "name": "ipython",
    "version": 3
   },
   "file_extension": ".py",
   "mimetype": "text/x-python",
   "name": "python",
   "nbconvert_exporter": "python",
   "pygments_lexer": "ipython3",
   "version": "3.9.13"
  }
 },
 "nbformat": 4,
 "nbformat_minor": 5
}
